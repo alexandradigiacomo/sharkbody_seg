{
 "cells": [
  {
   "cell_type": "markdown",
   "metadata": {},
   "source": [
    "# Merging Shark Length Metadata from External (SSD) Files"
   ]
  },
  {
   "cell_type": "code",
   "execution_count": 3,
   "metadata": {},
   "outputs": [],
   "source": [
    "import pandas as pd\n",
    "import os"
   ]
  },
  {
   "cell_type": "code",
   "execution_count": 5,
   "metadata": {},
   "outputs": [],
   "source": [
    "root_metadata = '/mnt/class_data/group2/alexandradigiacomo/dataset/metadata'\n",
    "file_2022 = 'SharkPixels_2022.csv'\n",
    "file_2023 = 'SharkPixels_2023.csv'\n",
    "file_2024 = 'SharkPixels_2024.csv'\n",
    "\n",
    "file_paths = [os.path.join(root_metadata, file_2022),\n",
    "              os.path.join(root_metadata, file_2023),\n",
    "              os.path.join(root_metadata, file_2024)]\n",
    "\n",
    "# Concatenate them into one DataFrame\n",
    "df_all = pd.concat([pd.read_csv(file_paths[0]), \n",
    "                        pd.read_csv(file_paths[1]),\n",
    "                        pd.read_csv(file_paths[2])], ignore_index=True)"
   ]
  },
  {
   "cell_type": "code",
   "execution_count": 7,
   "metadata": {},
   "outputs": [],
   "source": [
    "df_all.to_csv(os.path.join(root_metadata, 'sharklengths_metadata.csv'), index=False)"
   ]
  }
 ],
 "metadata": {
  "kernelspec": {
   "display_name": "shark_env",
   "language": "python",
   "name": "python3"
  },
  "language_info": {
   "codemirror_mode": {
    "name": "ipython",
    "version": 3
   },
   "file_extension": ".py",
   "mimetype": "text/x-python",
   "name": "python",
   "nbconvert_exporter": "python",
   "pygments_lexer": "ipython3",
   "version": "3.12.8"
  }
 },
 "nbformat": 4,
 "nbformat_minor": 2
}
