{
 "cells": [
  {
   "cell_type": "markdown",
   "metadata": {},
   "source": [
    "# Convert Center Points and Calibration Coordinates to .csv"
   ]
  },
  {
   "cell_type": "markdown",
   "metadata": {},
   "source": [
    "Script exports one .csv for shark center points and one .csv for calibration end points, both of which are stored in the same location as the .xml file denoting the original annotations (exported from CVAT as CVAT for Images 1.1, not COCO)\n",
    "\n",
    "The centerpoints.csv file contains columns necessary for parsing in the DataLoader() (center_x, center_y)."
   ]
  },
  {
   "cell_type": "code",
   "execution_count": 10,
   "metadata": {},
   "outputs": [],
   "source": [
    "import xml.etree.ElementTree as ET\n",
    "import csv\n",
    "import os"
   ]
  },
  {
   "cell_type": "code",
   "execution_count": 20,
   "metadata": {},
   "outputs": [],
   "source": [
    "# Path to your XML file; export points annotations as 'CVAT for Images 1.1'\n",
    "xml_file = '/mnt/class_data/group2/alexandradigiacomo/dataset/metadata/centerpoints/centerpoints.xml'"
   ]
  },
  {
   "cell_type": "code",
   "execution_count": 21,
   "metadata": {},
   "outputs": [
    {
     "name": "stdout",
     "output_type": "stream",
     "text": [
      "CSV files written to: /mnt/class_data/group2/alexandradigiacomo/dataset/metadata/centerpoints/centerpoints.csv and /mnt/class_data/group2/alexandradigiacomo/dataset/metadata/centerpoints/calibrationpoints.csv\n"
     ]
    }
   ],
   "source": [
    "# Parse the XML file\n",
    "tree = ET.parse(xml_file)\n",
    "root = tree.getroot()\n",
    "xml_dir = os.path.dirname(xml_file)\n",
    "\n",
    "# Create lists to store the data for both labels\n",
    "centerpoint_data = []\n",
    "calibrationpoints_data = []\n",
    "\n",
    "# Iterate over all images and points\n",
    "for image in root.findall('image'):\n",
    "    image_name = image.get('name')  # Extract the image name\n",
    "    points_elements = image.findall('points')  # Find all point annotations\n",
    "\n",
    "    for points in points_elements:\n",
    "        label = points.get('label')  # Extract the label of the annotation\n",
    "        \n",
    "        # Check the label and append to the corresponding list\n",
    "        if label == \"shark center point\":\n",
    "            points_str = points.get('points')  # Extract the coordinates as a string\n",
    "            coordinates = points_str.split(';')  # Split the coordinates by semicolon\n",
    "            \n",
    "            # Clean up the coordinates and convert to x, y\n",
    "            x_coords = []\n",
    "            y_coords = []\n",
    "            for coord in coordinates:\n",
    "                x, y = coord.split(',')\n",
    "                x_coords.append(float(x.strip()))  # Convert to float\n",
    "                y_coords.append(float(y.strip()))  # Convert to float\n",
    "            \n",
    "            # Calculate center_y and center_x (mean of y and x coordinates)\n",
    "            center_y = sum(y_coords) / len(y_coords)\n",
    "            center_x = sum(x_coords) / len(x_coords)\n",
    "\n",
    "            # Append to centerpoint_data with center_y and center_x\n",
    "            centerpoint_data.append([image_name, label, center_y, center_x] + [f'{x},{y}' for x, y in zip(x_coords, y_coords)])\n",
    "        \n",
    "        elif label == \"calibration end points\":\n",
    "            points_str = points.get('points')  # Extract the coordinates as a string\n",
    "            coordinates = points_str.split(';')  # Split the coordinates by semicolon\n",
    "            \n",
    "            # Clean up the coordinates and convert to x, y\n",
    "            coords = []\n",
    "            for coord in coordinates:\n",
    "                x, y = coord.split(',')\n",
    "                coords.append(f'{x.strip()},{y.strip()}')\n",
    "            \n",
    "            # Append to calibrationpoints_data\n",
    "            calibrationpoints_data.append([image_name, label] + coords)\n",
    "\n",
    "# Path for the CSV files (same location as the XML file)\n",
    "centerpoint_csv_file = os.path.join(xml_dir, 'centerpoints.csv')\n",
    "calibrationpoints_csv_file = os.path.join(xml_dir, 'calibrationpoints.csv')\n",
    "\n",
    "# Write the centerpoint data to a CSV file\n",
    "with open(centerpoint_csv_file, mode='w', newline='') as file:\n",
    "    writer = csv.writer(file)\n",
    "    # Write header (including center_y and center_x)\n",
    "    writer.writerow(['filename', 'label', 'center_y', 'center_x', 'coordinates'])\n",
    "    # Write data\n",
    "    for row in centerpoint_data:\n",
    "        writer.writerow(row)\n",
    "\n",
    "# Write the calibrationpoints data to a CSV file\n",
    "with open(calibrationpoints_csv_file, mode='w', newline='') as file:\n",
    "    writer = csv.writer(file)\n",
    "    # Write header\n",
    "    writer.writerow(['filename', 'label', 'coordinates'])\n",
    "    # Write data\n",
    "    for row in calibrationpoints_data:\n",
    "        writer.writerow(row)\n",
    "\n",
    "print(f\"CSV files written to: {centerpoint_csv_file} and {calibrationpoints_csv_file}\")\n"
   ]
  }
 ],
 "metadata": {
  "kernelspec": {
   "display_name": "shark_env",
   "language": "python",
   "name": "python3"
  },
  "language_info": {
   "codemirror_mode": {
    "name": "ipython",
    "version": 3
   },
   "file_extension": ".py",
   "mimetype": "text/x-python",
   "name": "python",
   "nbconvert_exporter": "python",
   "pygments_lexer": "ipython3",
   "version": "3.12.8"
  }
 },
 "nbformat": 4,
 "nbformat_minor": 2
}
