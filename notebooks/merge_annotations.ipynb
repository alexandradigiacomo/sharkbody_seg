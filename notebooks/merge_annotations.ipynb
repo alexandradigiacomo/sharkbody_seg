{
 "cells": [
  {
   "cell_type": "markdown",
   "metadata": {},
   "source": [
    "# This markdown file is intended to merge the annotations exported from CVAT"
   ]
  },
  {
   "cell_type": "code",
   "execution_count": 6,
   "metadata": {},
   "outputs": [],
   "source": [
    "import json\n",
    "import re\n",
    "import matplotlib.pyplot as plt\n",
    "from pycocotools.coco import COCO\n",
    "from collections import Counter"
   ]
  },
  {
   "cell_type": "code",
   "execution_count": 61,
   "metadata": {},
   "outputs": [
    {
     "name": "stdout",
     "output_type": "stream",
     "text": [
      "loading annotations into memory...\n",
      "Done (t=0.06s)\n",
      "creating index...\n",
      "index created!\n",
      "loading annotations into memory...\n",
      "Done (t=1.46s)\n",
      "creating index...\n",
      "index created!\n"
     ]
    }
   ],
   "source": [
    "# load data\n",
    "input_file_1 = '/Volumes/JWSSurveys/bodycondition/CV4E/annotations/instances_default.json'  # Path to the first JSON file\n",
    "input_file_2 = '/Volumes/JWSSurveys/bodycondition/CV4E/annotations/instances_default_2.json'  # Path to the second JSON file\n",
    "input_files = [input_file_1, input_file_2]\n",
    "\n",
    "# make coco datasets\n",
    "coco = COCO(input_file_1)\n",
    "coco_2 = COCO(input_file_2)"
   ]
  },
  {
   "cell_type": "code",
   "execution_count": 64,
   "metadata": {},
   "outputs": [
    {
     "name": "stdout",
     "output_type": "stream",
     "text": [
      "loading annotations into memory...\n",
      "Done (t=0.02s)\n",
      "creating index...\n",
      "index created!\n",
      "loading annotations into memory...\n",
      "Done (t=0.03s)\n",
      "creating index...\n",
      "index created!\n",
      "Merged COCO JSON files saved to /Volumes/JWSSurveys/bodycondition/CV4E/annotations/TEST_merged_coco.json\n"
     ]
    }
   ],
   "source": [
    "# https://stackoverflow.com/questions/68650460/how-to-merge-multiple-coco-json-files-in-python\n",
    "\n",
    "def merge_coco_json(json_files, output_file):\n",
    "    merged_annotations = {\n",
    "        \"info\": {},\n",
    "        \"licenses\": [],\n",
    "        \"images\": [],\n",
    "        \"annotations\": [],\n",
    "        \"categories\": []\n",
    "    }\n",
    "\n",
    "    image_id_offset = 0\n",
    "    annotation_id_offset = 0\n",
    "    category_id_offset = 0\n",
    "    existing_category_ids = set()\n",
    "\n",
    "    for idx, file in enumerate(json_files):\n",
    "        coco = COCO(file)\n",
    "\n",
    "       # Update image IDs to avoid conflicts\n",
    "        for image in coco.dataset['images']:\n",
    "            image['id'] += image_id_offset\n",
    "            merged_annotations['images'].append(image)\n",
    "\n",
    "        # Update annotation IDs to avoid conflicts\n",
    "        for annotation in coco.dataset['annotations']:\n",
    "            annotation['id'] += annotation_id_offset\n",
    "            annotation['image_id'] += image_id_offset\n",
    "            merged_annotations['annotations'].append(annotation)\n",
    "\n",
    "        # Update categories and their IDs to avoid conflicts\n",
    "        for category in coco.dataset['categories']:\n",
    "            if category['id'] not in existing_category_ids:\n",
    "                category['id'] += category_id_offset\n",
    "                merged_annotations['categories'].append(category)\n",
    "                existing_category_ids.add(category['id'])\n",
    "\n",
    "        image_id_offset = len(merged_annotations['images'])\n",
    "        annotation_id_offset = len(merged_annotations['annotations'])\n",
    "        category_id_offset = len(merged_annotations['categories'])\n",
    "\n",
    "    # Save merged annotations to output file\n",
    "    with open(output_file, 'w') as f:\n",
    "        json.dump(merged_annotations, f)\n",
    "\n",
    "# List of paths to COCO JSON files to merge\n",
    "json_files = input_files\n",
    "\n",
    "# Output file path for merged annotations\n",
    "output_file = \"/Volumes/JWSSurveys/bodycondition/CV4E/annotations/TEST_merged_coco.json\"\n",
    "\n",
    "# Merge COCO JSON files\n",
    "merge_coco_json(json_files, output_file)\n",
    "\n",
    "print(\"Merged COCO JSON files saved to\", output_file)"
   ]
  }
 ],
 "metadata": {
  "kernelspec": {
   "display_name": "python_sandbox",
   "language": "python",
   "name": "python3"
  },
  "language_info": {
   "codemirror_mode": {
    "name": "ipython",
    "version": 3
   },
   "file_extension": ".py",
   "mimetype": "text/x-python",
   "name": "python",
   "nbconvert_exporter": "python",
   "pygments_lexer": "ipython3",
   "version": "3.13.1"
  }
 },
 "nbformat": 4,
 "nbformat_minor": 2
}
