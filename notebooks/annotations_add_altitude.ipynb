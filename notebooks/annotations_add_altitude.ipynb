{
 "cells": [
  {
   "cell_type": "code",
   "execution_count": 2,
   "metadata": {},
   "outputs": [],
   "source": [
    "import pandas as pd\n",
    "import json"
   ]
  },
  {
   "cell_type": "code",
   "execution_count": 27,
   "metadata": {},
   "outputs": [],
   "source": [
    "\n",
    "def load_altitude_data(csv_path):\n",
    "    df_altitudes = pd.read_csv(csv_path) # load csv for altitude data\n",
    "    df_altitudes.rename(columns={'FileName': 'file_name'}, inplace=True)\n",
    "    altitude_dict = dict(zip(df_altitudes['file_name'], df_altitudes['RelativeAltitude']))\n",
    "    \n",
    "    return altitude_dict\n",
    "\n",
    "def merge_annotations_with_altitude(annotations_path, altitude_dict):\n",
    "    with open(annotations_path, 'r') as f:\n",
    "        annotations = json.load(f) # merge annotations\n",
    "\n",
    "    # Map image_id to file_name \n",
    "    image_dict = {img['id']: img['file_name'] for img in annotations['images']}\n",
    "    \n",
    "    # Add relative altitude to each image in the annotations\n",
    "    for img in annotations['images']:\n",
    "        image_name = img['file_name']\n",
    "        # If altitude data is available, add it to the image metadata\n",
    "        if image_name in altitude_dict:\n",
    "            img['relative_altitude'] = altitude_dict[image_name]\n",
    "        else:\n",
    "            img['relative_altitude'] = 0  \n",
    "\n",
    "    # Save the updated annotations back to a new file\n",
    "    updated_annotations_path = annotations_path.replace('.json', '_with_altitude.json')\n",
    "    with open(updated_annotations_path, 'w') as f:\n",
    "        json.dump(annotations, f, indent=4)\n",
    "\n",
    "    print(f\"Updated annotations saved to: {updated_annotations_path}\")"
   ]
  },
  {
   "cell_type": "code",
   "execution_count": 28,
   "metadata": {},
   "outputs": [
    {
     "name": "stdout",
     "output_type": "stream",
     "text": [
      "Updated annotations saved to: /mnt/class_data/group2/alexandradigiacomo/dataset/annotations/crop_altitude/train_with_altitude.json\n",
      "Updated annotations saved to: /mnt/class_data/group2/alexandradigiacomo/dataset/annotations/crop_altitude/val_with_altitude.json\n"
     ]
    }
   ],
   "source": [
    "# Example usage:\n",
    "csv_path = '/mnt/class_data/group2/alexandradigiacomo/dataset/metadata/metadata.csv'  # CSV with file names and altitudes\n",
    "annotations_path_train = '/mnt/class_data/group2/alexandradigiacomo/dataset/annotations/crop_altitude/train.json'\n",
    "annotations_path_val = '/mnt/class_data/group2/alexandradigiacomo/dataset/annotations/crop_altitude/val.json'\n",
    "altitude_dict = load_altitude_data(csv_path)\n",
    "\n",
    "# train add\n",
    "merge_annotations_with_altitude(annotations_path_train, altitude_dict)\n",
    "\n",
    "# val add\n",
    "merge_annotations_with_altitude(annotations_path_val, altitude_dict)\n"
   ]
  }
 ],
 "metadata": {
  "kernelspec": {
   "display_name": "shark_env",
   "language": "python",
   "name": "python3"
  },
  "language_info": {
   "codemirror_mode": {
    "name": "ipython",
    "version": 3
   },
   "file_extension": ".py",
   "mimetype": "text/x-python",
   "name": "python",
   "nbconvert_exporter": "python",
   "pygments_lexer": "ipython3",
   "version": "3.12.8"
  }
 },
 "nbformat": 4,
 "nbformat_minor": 2
}
